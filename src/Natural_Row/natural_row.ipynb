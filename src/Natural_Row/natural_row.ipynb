{
 "cells": [
  {
   "cell_type": "markdown",
   "id": "525dd220",
   "metadata": {},
   "source": [
    "### Натуральный ряд чисел\n"
   ]
  },
  {
   "cell_type": "markdown",
   "id": "c9ea34a0",
   "metadata": {},
   "source": [
    "---\n",
    "\n",
    "Условие задачи:\n",
    "\n",
    "* Весь ряд натуральных чисел по возрастанию записан без пробелов в строку. Строка пронумерована начиная с 0.\n",
    "\n",
    "---\n",
    "\n",
    "Требуется написать функцию:\n",
    "1. На вход должно подаваться число N - индекс цифры в строке.\n",
    "2. Функция должна возвращать цифру, которая находится под индексом N в строке.\n",
    "\n",
    "---\n",
    "\n",
    "Пример:\n",
    "* Строка: 1234567891011121314151617181920212223\n",
    "* N = 14\n",
    "* f(N) = 2\n",
    "\n",
    "---\n"
   ]
  },
  {
   "cell_type": "markdown",
   "id": "eaaf9f7c",
   "metadata": {},
   "source": [
    "### Моя первая версия алгоритма\n"
   ]
  },
  {
   "cell_type": "markdown",
   "id": "efbc1de0",
   "metadata": {},
   "source": [
    "* начальная настройка для больших чисел\n"
   ]
  },
  {
   "cell_type": "code",
   "execution_count": null,
   "id": "68cbe570",
   "metadata": {},
   "outputs": [],
   "source": [
    "import sys\n",
    "\n",
    "sys.set_int_max_str_digits(0)"
   ]
  },
  {
   "cell_type": "markdown",
   "id": "a6d8defb",
   "metadata": {},
   "source": [
    "* реализация алгоритма\n"
   ]
  },
  {
   "cell_type": "code",
   "execution_count": null,
   "id": "426a5763",
   "metadata": {},
   "outputs": [],
   "source": [
    "def get_current_capacity_digits(capacity: int) -> int:\n",
    "    \"\"\"\n",
    "    Получение числа цифр, которые есть в числах текущей разрядности.\n",
    "\n",
    "    Механизм прост: всего чисел в разрядности 9 * 10**n\n",
    "    Например: 9, 90, 900, и т.п.\n",
    "    n = capacity - 1, легко проверяется.\n",
    "\n",
    "    Остается посчитать кол-во цифр: кол-во числе * capacity\n",
    "    \"\"\"\n",
    "    return 9 * capacity * (10 ** (capacity - 1))\n",
    "\n",
    "\n",
    "def get_digit(N: int) -> int:\n",
    "    \"\"\"\n",
    "    Поиск по строке, состоящей из всех натуральных чисел.\n",
    "    Считается, что первый индекс в строке - 0.\n",
    "    Возращает цифру под индексом N в этой строке.\n",
    "    \"\"\"\n",
    "    # capacity - Искомая разрядность числа.\n",
    "    # Внутри данного числа и находится искомая цифра.\n",
    "    capacity = 1\n",
    "\n",
    "    # not_less_capacity_digits - счётчик числа цифр,\n",
    "    # которые лежат в числах той же или большей разрядности.\n",
    "    # По умолчанию разрядность 1 => все цифры (N) лежат в number.\n",
    "    not_less_capacity_digits = N\n",
    "\n",
    "    # current_capacity_digits - счётчик числа цифр,\n",
    "    # которые лежат в числах той же разрядности.\n",
    "    current_capacity_digits = get_current_capacity_digits(capacity)\n",
    "\n",
    "    # Цикл для поиска разряда числа, внутри которого лежит цифра.\n",
    "    # number >= current_capacity_digits, значит оно точно\n",
    "    # большей разрядности.\n",
    "    while not_less_capacity_digits >= current_capacity_digits:\n",
    "        not_less_capacity_digits -= current_capacity_digits\n",
    "\n",
    "        capacity += 1\n",
    "        current_capacity_digits = get_current_capacity_digits(\n",
    "            capacity\n",
    "        )\n",
    "\n",
    "    # numbers_up_to - все числа, которые шли до числа,\n",
    "    # в котором содержится искомая цифра.\n",
    "    # Всего цифр в этих числах = not_less_capacity_digits,\n",
    "    # Разрядность этих чисел = capacity,\n",
    "    # Следовательно их кол-во = кол-во цифр // разрядность.\n",
    "    numbers_up_to = not_less_capacity_digits // capacity\n",
    "\n",
    "    # searched_digit_index - индекс искомой цифры в её числе.\n",
    "    searched_digit_index = not_less_capacity_digits % capacity\n",
    "\n",
    "    # Получение цифры из знания о её индексе.\n",
    "    # power - степень числа,\n",
    "    # на которое необходимо разделить numbers_up_to,\n",
    "    # чтобы последняя цифра результирующего числа была равна искомой.\n",
    "    power = capacity - searched_digit_index - 1\n",
    "\n",
    "    if searched_digit_index == 0:\n",
    "        result_digit = (numbers_up_to // (10**power)) + 1\n",
    "\n",
    "    else:\n",
    "        result_digit = (numbers_up_to // (10**power)) % 10\n",
    "\n",
    "    # # ! ИНФОРМАЦИЯ ДЛЯ ОТЛАДКИ\n",
    "    # # ! Не используется в основной функции.\n",
    "    # print(\n",
    "    #     \"Searched digit: {}\\nCapacity: {}\\nNumbers up to: {}\\n\"\n",
    "    #     \"Searched digit local index: {}\".format(\n",
    "    #         N,\n",
    "    #         capacity,\n",
    "    #         numbers_up_to,\n",
    "    #         searched_digit_index,\n",
    "    #     )\n",
    "    # )\n",
    "\n",
    "    # Возвращаем искомую цифру.\n",
    "    return result_digit"
   ]
  },
  {
   "cell_type": "markdown",
   "id": "f54b42f4",
   "metadata": {},
   "source": [
    "* тестирование алгоритма\n"
   ]
  },
  {
   "cell_type": "code",
   "execution_count": null,
   "id": "ff8e357e",
   "metadata": {},
   "outputs": [],
   "source": [
    "print(\"Result: \", get_digit(eval(input())))"
   ]
  },
  {
   "cell_type": "markdown",
   "id": "c2aeff9c",
   "metadata": {},
   "source": [
    "### Эталонный алгоритм для Python\n"
   ]
  },
  {
   "cell_type": "markdown",
   "id": "5f8a89d4",
   "metadata": {},
   "source": [
    "* начальная настройка для больших чисел\n"
   ]
  },
  {
   "cell_type": "code",
   "execution_count": null,
   "id": "da9b0b90",
   "metadata": {},
   "outputs": [],
   "source": [
    "import sys\n",
    "\n",
    "sys.set_int_max_str_digits(0)"
   ]
  },
  {
   "cell_type": "markdown",
   "id": "71adcf98",
   "metadata": {},
   "source": [
    "#### Оригинальный вариант\n"
   ]
  },
  {
   "cell_type": "markdown",
   "id": "da27517d",
   "metadata": {},
   "source": [
    "* автор оригинального алгоритма: @tgfromrus\n"
   ]
  },
  {
   "cell_type": "markdown",
   "id": "2ce7935d",
   "metadata": {},
   "source": [
    "* реализация алгоритма\n"
   ]
  },
  {
   "cell_type": "code",
   "execution_count": null,
   "id": "db79f59a",
   "metadata": {},
   "outputs": [],
   "source": [
    "def fast_get_digit(n):\n",
    "    digits = 1\n",
    "    count = 9\n",
    "    start = 1\n",
    "\n",
    "    while n > digits * count:\n",
    "        n -= digits * count\n",
    "        digits += 1\n",
    "        count *= 10\n",
    "        start *= 10\n",
    "\n",
    "    number = start + (n - 1) // digits\n",
    "    index = (n - 1) % digits\n",
    "\n",
    "    return str(number)[index]"
   ]
  },
  {
   "cell_type": "markdown",
   "id": "fcaf20da",
   "metadata": {},
   "source": [
    "* тестирование алгоритма\n"
   ]
  },
  {
   "cell_type": "code",
   "execution_count": null,
   "id": "453a3c07",
   "metadata": {},
   "outputs": [],
   "source": [
    "print(\"Result: \", fast_get_digit(eval(input())))"
   ]
  },
  {
   "cell_type": "markdown",
   "id": "95c0a917",
   "metadata": {},
   "source": [
    "* Время счёта 10^500_000:\n",
    "* ~46.1s\n",
    "* < 47s\n"
   ]
  },
  {
   "cell_type": "markdown",
   "id": "78238f96",
   "metadata": {},
   "source": [
    "#### Моя оптимизация алгоритма\n"
   ]
  },
  {
   "cell_type": "markdown",
   "id": "fbb5226b",
   "metadata": {},
   "source": [
    "* начальная настройка для больших чисел\n"
   ]
  },
  {
   "cell_type": "code",
   "execution_count": null,
   "id": "a2abfe67",
   "metadata": {},
   "outputs": [],
   "source": [
    "def fast_get_digit(n):\n",
    "    digits = 1\n",
    "    count = 9\n",
    "\n",
    "    while n > digits * count:\n",
    "        n -= digits * count\n",
    "        digits += 1\n",
    "        count *= 10\n",
    "\n",
    "    number = (count // 9) + (n - 1) // digits\n",
    "    index = (n - 1) % digits\n",
    "\n",
    "    return str(number)[index]"
   ]
  },
  {
   "cell_type": "markdown",
   "id": "d03946c9",
   "metadata": {},
   "source": [
    "* тестирование алгоритма\n"
   ]
  },
  {
   "cell_type": "code",
   "execution_count": null,
   "id": "371c6e12",
   "metadata": {},
   "outputs": [],
   "source": [
    "print(\"Result: \", fast_get_digit(10**500_000))"
   ]
  },
  {
   "cell_type": "markdown",
   "id": "4361df48",
   "metadata": {},
   "source": [
    "---\n",
    "\n",
    "* Время счёта 10^500_000:\n",
    "* ~39.5s\n",
    "* < 40s\n",
    "\n",
    "---\n",
    "\n",
    "* Время счёта 10^1_000_000:\n",
    "* ~156.27s\n",
    "\n",
    "---\n"
   ]
  },
  {
   "cell_type": "markdown",
   "id": "6205e26f",
   "metadata": {},
   "source": [
    "### Эталонная реализация на Rust\n"
   ]
  },
  {
   "cell_type": "markdown",
   "id": "c28cbff7",
   "metadata": {},
   "source": [
    "* реализация алгоритма\n"
   ]
  },
  {
   "cell_type": "code",
   "execution_count": null,
   "id": "e4c9c123",
   "metadata": {},
   "outputs": [],
   "source": [
    "use num_bigint::BigUint;\n",
    "use num_traits::cast::ToPrimitive;\n",
    "\n",
    "fn main() {\n",
    "    // n = 2_500_000\n",
    "    let mut n = BigUint::new(vec![10]).pow(100_000);\n",
    "    n *= BigUint::new(vec![25])\n",
    "\n",
    "    let mut digits = BigUint::new(vec![1]);\n",
    "    let mut count = BigUint::new(vec![9]);\n",
    "\n",
    "    let one = BigUint::new(vec![1]);\n",
    "    let nine = BigUint::new(vec![9]);\n",
    "    let ten = BigUint::new(vec![10]);\n",
    "\n",
    "    while n > &digits * &count {\n",
    "        n -= &digits * &count;\n",
    "        digits += &one;\n",
    "        count *= &ten;\n",
    "    }\n",
    "\n",
    "    let number = (&count / &nine) + (&n - &one) / &digits;\n",
    "    let index = ((n - one) % digits).to_usize().expect(\"Lol, usize error\");\n",
    "\n",
    "    let result = number\n",
    "        .to_string()\n",
    "        .chars()\n",
    "        .nth(index)\n",
    "        .expect(\"Lol, result error\");\n",
    "\n",
    "    println!(\"{}\", result);\n",
    "}\n"
   ]
  },
  {
   "cell_type": "markdown",
   "id": "6854d5cd",
   "metadata": {},
   "source": [
    "* финальное тестирование алгоритма\n"
   ]
  },
  {
   "cell_type": "markdown",
   "id": "d05e47eb",
   "metadata": {},
   "source": [
    "n            |Цифра под индексом 10^n|Время выполнения, с|Время выполнения, м|\n",
    "-------------|-----------------------|-------------------|-------------------|\n",
    "100_000      |  1                    |  0.57             |  ~0.00            |\n",
    "500_000      |  2                    |  14.53            |  ~0.00            |\n",
    "1_000_000    |  0                    |  60.37            |   1.00            |\n",
    "1_500_000    |  4                    |  133.45           |   2.23            |\n",
    "2_500_000    |  3                    |  377.31           |   6.29            |\n",
    "5_000_000    |  9                    |  1580.68          |   26.34           |\n"
   ]
  }
 ],
 "metadata": {
  "kernelspec": {
   "display_name": "Python 3",
   "language": "python",
   "name": "python3"
  },
  "language_info": {
   "codemirror_mode": {
    "name": "ipython",
    "version": 3
   },
   "file_extension": ".py",
   "mimetype": "text/x-python",
   "name": "python",
   "nbconvert_exporter": "python",
   "pygments_lexer": "ipython3",
   "version": "3.13.6"
  }
 },
 "nbformat": 4,
 "nbformat_minor": 5
}
